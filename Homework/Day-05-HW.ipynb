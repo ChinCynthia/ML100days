{
 "cells": [
  {
   "cell_type": "code",
   "execution_count": 1,
   "metadata": {},
   "outputs": [],
   "source": [
    "import numpy as np"
   ]
  },
  {
   "cell_type": "code",
   "execution_count": 2,
   "metadata": {},
   "outputs": [],
   "source": [
    "english_score = np.array([55,89,76,65,48,70])\n",
    "math_score = np.array([60,85,60,68,np.nan,60])\n",
    "chinese_score = np.array([65,90,82,72,66,77])"
   ]
  },
  {
   "cell_type": "code",
   "execution_count": 28,
   "metadata": {},
   "outputs": [
    {
     "data": {
      "text/plain": [
       "(67.16666666666667,\n",
       " 89,\n",
       " 48,\n",
       " 13.433995020924426,\n",
       " 66.6,\n",
       " 85.0,\n",
       " 60.0,\n",
       " 9.707728879609279,\n",
       " 75.33333333333333,\n",
       " 90,\n",
       " 65,\n",
       " 8.825468196582484)"
      ]
     },
     "execution_count": 28,
     "metadata": {},
     "output_type": "execute_result"
    }
   ],
   "source": [
    "#1. 請計算各科成績平均、最大值、最小值、標準差，其中數學缺一筆資料可忽略?\n",
    "#(英文:67.16666666666667,89,48,13.433995020924426,)\n",
    "#(數學:66.6,85.0,60.0,9.707728879609279,)\n",
    "#(國文:75.33333333333333,90,65,8.825468196582484)\n",
    "MEAN_ENG=np.mean(english_score)\n",
    "MAX_ENG=np.amax(english_score)\n",
    "MIN_ENG=np.amin(english_score)\n",
    "STD_ENG=np.std(english_score)\n",
    "\n",
    "MEAN_MATH=np.nanmean(math_score)\n",
    "MAX_MATH=np.nanmax(math_score)\n",
    "MIN_MATH=np.nanmin(math_score)\n",
    "STD_MATH=np.nanstd(math_score)\n",
    "\n",
    "MEAN_CHI=np.mean(chinese_score)\n",
    "MAX_CHI=np.amax(chinese_score)\n",
    "MIN_CHI=np.amin(chinese_score)\n",
    "STD_CHI=np.std(chinese_score)\n",
    "\n",
    "MEAN_ENG,MAX_ENG,MIN_ENG,STD_ENG, MEAN_MATH,MAX_MATH,MIN_MATH,STD_MATH ,MEAN_CHI,MAX_CHI,MIN_CHI,STD_CHI"
   ]
  },
  {
   "cell_type": "code",
   "execution_count": 31,
   "metadata": {},
   "outputs": [
    {
     "data": {
      "text/plain": [
       "(64.66666666666667, 85, 55, 9.860132971832694)"
      ]
     },
     "execution_count": 31,
     "metadata": {},
     "output_type": "execute_result"
    }
   ],
   "source": [
    "#2. 第五位同學補考數學後成績為55，請計算補考後數學成績平均、最大值、最小值、標準差?\n",
    "#(64.66666666666667, 85, 55, 9.860132971832694)\n",
    "re_math_score = np.array([60,85,60,68,55,60])\n",
    "re_MEAN_MATH=np.mean(re_math_score)\n",
    "re_MAX_MATH=np.amax(re_math_score)\n",
    "re_MIN_MATH=np.amin(re_math_score)\n",
    "re_STD_MATH=np.std(re_math_score)\n",
    "re_MEAN_MATH,re_MAX_MATH,re_MIN_MATH,re_STD_MATH"
   ]
  },
  {
   "cell_type": "code",
   "execution_count": 37,
   "metadata": {},
   "outputs": [
    {
     "data": {
      "text/plain": [
       "(array([[1.        , 0.74056803],\n",
       "        [0.74056803, 1.        ]]),\n",
       " array([[1.        , 0.97792828],\n",
       "        [0.97792828, 1.        ]]))"
      ]
     },
     "execution_count": 37,
     "metadata": {},
     "output_type": "execute_result"
    }
   ],
   "source": [
    "#3. 用補考後資料找出與國文成績相關係數最高的學科?\n",
    "#英文\n",
    "COR_CHI_MATH=np.corrcoef(chinese_score,re_math_score)\n",
    "COR_CHI_ENG=np.corrcoef(chinese_score,english_score)\n",
    "COR_CHI_MATH,COR_CHI_ENG"
   ]
  },
  {
   "cell_type": "code",
   "execution_count": null,
   "metadata": {},
   "outputs": [],
   "source": []
  }
 ],
 "metadata": {
  "kernelspec": {
   "display_name": "Python 3",
   "language": "python",
   "name": "python3"
  },
  "language_info": {
   "codemirror_mode": {
    "name": "ipython",
    "version": 3
   },
   "file_extension": ".py",
   "mimetype": "text/x-python",
   "name": "python",
   "nbconvert_exporter": "python",
   "pygments_lexer": "ipython3",
   "version": "3.8.5"
  }
 },
 "nbformat": 4,
 "nbformat_minor": 4
}
